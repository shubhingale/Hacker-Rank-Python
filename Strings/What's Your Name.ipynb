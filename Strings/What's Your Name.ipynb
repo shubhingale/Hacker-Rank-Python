{
 "cells": [
  {
   "cell_type": "markdown",
   "id": "de497111",
   "metadata": {},
   "source": [
    "# What's Your Name?\n",
    "You are given the firstname and lastname of a person on two different lines. Your task is to read them and print the following:\n",
    "\n",
    "    Hello firstname lastname! You just delved into python.\n",
    "\n",
    "#### Function Description\n",
    "\n",
    "Complete the print_full_name function in the editor below.\n",
    "\n",
    "print_full_name has the following parameters:\n",
    "\n",
    "string first: the first name\n",
    "string last: the last name\n",
    "Prints\n",
    "\n",
    "string: 'Hello <i>firstname lastname</i> ! You just delved into python' where <i>firstname</i> and <i>lastname</i> are replaced with <i>first</i> and <i>last</i>.\n",
    "Input Format\n",
    "\n",
    "The first line contains the first name, and the second line contains the last name.\n",
    "\n",
    "#### Constraints\n",
    "\n",
    "The length of the first and last names are each ≤ 10.\n",
    "\n",
    "#### Sample Input 0"
   ]
  },
  {
   "cell_type": "code",
   "execution_count": null,
   "id": "ca6c66ee",
   "metadata": {},
   "outputs": [],
   "source": [
    "Ross\n",
    "Taylor"
   ]
  },
  {
   "cell_type": "markdown",
   "id": "c4b5d76f",
   "metadata": {},
   "source": [
    "#### Sample Output 0"
   ]
  },
  {
   "cell_type": "code",
   "execution_count": null,
   "id": "ce0f4cf8",
   "metadata": {},
   "outputs": [],
   "source": [
    "Hello Ross Taylor! You just delved into python."
   ]
  },
  {
   "cell_type": "markdown",
   "id": "9798b635",
   "metadata": {},
   "source": [
    "#### Explanation 0\n",
    "\n",
    "The input read by the program is stored as a string data type. A string is a collection of characters."
   ]
  },
  {
   "cell_type": "code",
   "execution_count": 1,
   "id": "9c1688ae",
   "metadata": {},
   "outputs": [
    {
     "name": "stdout",
     "output_type": "stream",
     "text": [
      "Shubhangi\n",
      "Ingale\n",
      "Hello  Shubhangi   Ingale ! You just delved into python.\n"
     ]
    }
   ],
   "source": [
    "def print_full_name(first, last):\n",
    "    # Write your code here\n",
    "    print(\"Hello \",first,\" \", last,\"! You just delved into python.\")\n",
    "\n",
    "if __name__ == '__main__':\n",
    "    first_name = input()\n",
    "    last_name = input()\n",
    "    print_full_name(first_name, last_name)"
   ]
  },
  {
   "cell_type": "code",
   "execution_count": null,
   "id": "9901244b",
   "metadata": {},
   "outputs": [],
   "source": []
  }
 ],
 "metadata": {
  "kernelspec": {
   "display_name": "Python 3 (ipykernel)",
   "language": "python",
   "name": "python3"
  },
  "language_info": {
   "codemirror_mode": {
    "name": "ipython",
    "version": 3
   },
   "file_extension": ".py",
   "mimetype": "text/x-python",
   "name": "python",
   "nbconvert_exporter": "python",
   "pygments_lexer": "ipython3",
   "version": "3.9.13"
  }
 },
 "nbformat": 4,
 "nbformat_minor": 5
}
