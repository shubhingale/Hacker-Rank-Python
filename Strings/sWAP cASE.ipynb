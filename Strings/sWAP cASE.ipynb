{
 "cells": [
  {
   "cell_type": "markdown",
   "id": "9dede257",
   "metadata": {},
   "source": [
    "# sWAP cASE\n",
    "You are given a string and your task is to swap cases. In other words, convert all lowercase letters to uppercase letters and vice versa.\n",
    "\n",
    "#### For Example:\n",
    "\n",
    "Www.HackerRank.com → wWW.hACKERrANK.COM<br>\n",
    "Pythonist 2 → pYTHONIST 2  \n",
    "#### Function Description\n",
    "\n",
    "Complete the swap_case function in the editor below.\n",
    "\n",
    "swap_case has the following parameters:\n",
    "\n",
    "string $s$: the string to modify\n",
    "#### Returns\n",
    "\n",
    "string: the modified string\n",
    "#### Input Format\n",
    "\n",
    "A single line containing a string $s$.\n",
    "\n",
    "#### Constraints\n",
    "$0\\ <\\ len(s)\\ <\\ 100$\n",
    "\n",
    "#### Sample Input 0"
   ]
  },
  {
   "cell_type": "code",
   "execution_count": null,
   "id": "43bcc10c",
   "metadata": {},
   "outputs": [],
   "source": [
    "HackerRank.com presents \"Pythonist 2\"."
   ]
  },
  {
   "cell_type": "markdown",
   "id": "9ae5bb41",
   "metadata": {},
   "source": [
    "#### Sample Output 0"
   ]
  },
  {
   "cell_type": "code",
   "execution_count": null,
   "id": "60424138",
   "metadata": {},
   "outputs": [],
   "source": [
    "hACKERrANK.COM PRESENTS \"pYTHONIST 2\"."
   ]
  },
  {
   "cell_type": "markdown",
   "id": "c3b3933b",
   "metadata": {},
   "source": [
    "### Solution"
   ]
  },
  {
   "cell_type": "code",
   "execution_count": 3,
   "id": "653ca893",
   "metadata": {},
   "outputs": [
    {
     "name": "stdout",
     "output_type": "stream",
     "text": [
      "sHUBHANGI\n",
      "Shubhangi\n"
     ]
    }
   ],
   "source": [
    "def swap_case(s):\n",
    "    swapped = []\n",
    "    for char in s:\n",
    "        if char.islower():\n",
    "            swapped.append(char.upper())\n",
    "        elif char.isupper():\n",
    "            swapped.append(char.lower())\n",
    "        else:\n",
    "            swapped.append(char)\n",
    "    return ''.join(swapped)\n",
    "\n",
    "if __name__ == '__main__':\n",
    "    s = input()\n",
    "    result = swap_case(s)\n",
    "    print(result)"
   ]
  }
 ],
 "metadata": {
  "kernelspec": {
   "display_name": "Python 3 (ipykernel)",
   "language": "python",
   "name": "python3"
  },
  "language_info": {
   "codemirror_mode": {
    "name": "ipython",
    "version": 3
   },
   "file_extension": ".py",
   "mimetype": "text/x-python",
   "name": "python",
   "nbconvert_exporter": "python",
   "pygments_lexer": "ipython3",
   "version": "3.9.13"
  }
 },
 "nbformat": 4,
 "nbformat_minor": 5
}
