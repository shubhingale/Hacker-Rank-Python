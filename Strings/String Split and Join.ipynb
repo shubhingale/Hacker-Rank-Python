{
 "cells": [
  {
   "cell_type": "markdown",
   "id": "9f3a1bd4",
   "metadata": {},
   "source": [
    "# String Split and Join\n",
    "In Python, a string can be split on a delimiter.\n",
    "\n",
    "Example:"
   ]
  },
  {
   "cell_type": "code",
   "execution_count": null,
   "id": "8968811d",
   "metadata": {},
   "outputs": [],
   "source": [
    ">>> a = \"this is a string\"\n",
    ">>> a = a.split(\" \") # a is converted to a list of strings. \n",
    ">>> print a\n",
    "['this', 'is', 'a', 'string']"
   ]
  },
  {
   "cell_type": "markdown",
   "id": "d0904dc2",
   "metadata": {},
   "source": [
    "Joining a string is simple:"
   ]
  },
  {
   "cell_type": "code",
   "execution_count": null,
   "id": "d99c6825",
   "metadata": {},
   "outputs": [],
   "source": [
    ">>> a = \"-\".join(a)\n",
    ">>> print a\n",
    "this-is-a-string "
   ]
  },
  {
   "cell_type": "markdown",
   "id": "143f3386",
   "metadata": {},
   "source": [
    "#### Task\n",
    "You are given a string. Split the string on a \" \" (space) delimiter and join using a - hyphen.\n",
    "\n",
    "#### Function Description\n",
    "\n",
    "Complete the split_and_join function in the editor below.\n",
    "\n",
    "split_and_join has the following parameters:\n",
    "\n",
    "string line: a string of space-separated words\n",
    "#### Returns\n",
    "\n",
    "string: the resulting string\n",
    "#### Input Format\n",
    "The one line contains a string consisting of space separated words.\n",
    "\n",
    "#### Sample Input"
   ]
  },
  {
   "cell_type": "code",
   "execution_count": null,
   "id": "df26570c",
   "metadata": {},
   "outputs": [],
   "source": [
    "this is a string   "
   ]
  },
  {
   "cell_type": "markdown",
   "id": "34fb1783",
   "metadata": {},
   "source": [
    "#### Sample Output"
   ]
  },
  {
   "cell_type": "code",
   "execution_count": null,
   "id": "873d5cb2",
   "metadata": {},
   "outputs": [],
   "source": [
    "this-is-a-string"
   ]
  },
  {
   "cell_type": "markdown",
   "id": "d480f6d0",
   "metadata": {},
   "source": [
    "### Solution"
   ]
  },
  {
   "cell_type": "code",
   "execution_count": 2,
   "id": "770c98bb",
   "metadata": {},
   "outputs": [
    {
     "name": "stdout",
     "output_type": "stream",
     "text": [
      "I am Shubhangi\n",
      "I-am-Shubhangi\n"
     ]
    }
   ],
   "source": [
    "def split_and_join(line):\n",
    "    # write your code here\n",
    "    line = line.split(\" \")\n",
    "    line = \"-\".join(line)\n",
    "    return line\n",
    "\n",
    "if __name__ == '__main__':\n",
    "    line = input()\n",
    "    result = split_and_join(line)\n",
    "    print(result)"
   ]
  },
  {
   "cell_type": "code",
   "execution_count": null,
   "id": "0a0b276c",
   "metadata": {},
   "outputs": [],
   "source": []
  }
 ],
 "metadata": {
  "kernelspec": {
   "display_name": "Python 3 (ipykernel)",
   "language": "python",
   "name": "python3"
  },
  "language_info": {
   "codemirror_mode": {
    "name": "ipython",
    "version": 3
   },
   "file_extension": ".py",
   "mimetype": "text/x-python",
   "name": "python",
   "nbconvert_exporter": "python",
   "pygments_lexer": "ipython3",
   "version": "3.9.13"
  }
 },
 "nbformat": 4,
 "nbformat_minor": 5
}
