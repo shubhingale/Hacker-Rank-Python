{
 "cells": [
  {
   "cell_type": "markdown",
   "id": "655677d9",
   "metadata": {},
   "source": [
    "Mr. Anant Asankhya is the manager at the INFINITE hotel. The hotel has an infinite amount of rooms.\n",
    "\n",
    "One fine day, a finite number of tourists come to stay at the hotel.\n",
    "The tourists consist of:\n",
    "→ A Captain.\n",
    "→ An unknown group of families consisting of $K$ members per group where $K ≠ 1$.\n",
    "\n",
    "The Captain was given a separate room, and the rest were given one room per group.\n",
    "\n",
    "Mr. Anant has an unordered list of randomly arranged room entries. The list consists of the room numbers for all of the tourists. The room numbers will appear $K$ times per group except for the Captain's room.\n",
    "\n",
    "Mr. Anant needs you to help him find the Captain's room number.\n",
    "The total number of tourists or the total number of groups of families is not known to you.\n",
    "You only know the value of $K$ and the room number list.\n",
    "\n",
    "Input Format\n",
    "\n",
    "The first line consists of an integer, $K$, the size of each group.\n",
    "The second line contains the unordered elements of the room number list.\n",
    "\n",
    "\n",
    "Constraints\n",
    "\n",
    "$1 < K < 100$\n",
    "\n",
    "Output Format\n",
    "\n",
    "Output the Captain's room number.\n",
    "\n",
    "<b>Sample Input</b>"
   ]
  },
  {
   "cell_type": "markdown",
   "id": "114518a4",
   "metadata": {},
   "source": [
    "5\n",
    "1 2 3 6 5 4 4 2 5 3 6 1 6 5 3 2 4 1 2 5 1 4 3 6 8 4 3 1 5 6 2 "
   ]
  },
  {
   "cell_type": "markdown",
   "id": "25e11c9b",
   "metadata": {},
   "source": [
    "<b>Sample Output</b>"
   ]
  },
  {
   "cell_type": "markdown",
   "id": "7b40cc10",
   "metadata": {},
   "source": [
    "8"
   ]
  },
  {
   "cell_type": "markdown",
   "id": "5ab00418",
   "metadata": {},
   "source": [
    "<b>Explanation</b>\n",
    "\n",
    "The list of room numbers contains $31$ elements. Since $K$ is $5$, there must be $6$ groups of families. In the given list, all of the numbers repeat $5$ times except for room number $6$.\n",
    "Hence, $8$ is the Captain's room number.\n",
    "\n",
    "## Solution"
   ]
  },
  {
   "cell_type": "code",
   "execution_count": 12,
   "id": "a0c4a83c",
   "metadata": {},
   "outputs": [
    {
     "name": "stdout",
     "output_type": "stream",
     "text": [
      "5\n",
      "1 2 3 6 5 4 4 2 5 3 6 1 6 5 3 2 4 1 2 5 1 4 3 6 8 4 3 1 5 6 2 \n",
      "8\n"
     ]
    }
   ],
   "source": [
    "if __name__ == '__main__':\n",
    "    K = int(input())\n",
    "    A = list(input().split())\n",
    "    A_set = set(A)\n",
    "    for temp in A_set:\n",
    "        if A.count(temp) == 1 :\n",
    "            print(temp)"
   ]
  },
  {
   "cell_type": "code",
   "execution_count": 10,
   "id": "67e00b0f",
   "metadata": {},
   "outputs": [
    {
     "name": "stdout",
     "output_type": "stream",
     "text": [
      "8\n"
     ]
    }
   ],
   "source": []
  },
  {
   "cell_type": "code",
   "execution_count": null,
   "id": "2fd9b022",
   "metadata": {},
   "outputs": [],
   "source": []
  }
 ],
 "metadata": {
  "kernelspec": {
   "display_name": "Python 3 (ipykernel)",
   "language": "python",
   "name": "python3"
  },
  "language_info": {
   "codemirror_mode": {
    "name": "ipython",
    "version": 3
   },
   "file_extension": ".py",
   "mimetype": "text/x-python",
   "name": "python",
   "nbconvert_exporter": "python",
   "pygments_lexer": "ipython3",
   "version": "3.10.9"
  }
 },
 "nbformat": 4,
 "nbformat_minor": 5
}
