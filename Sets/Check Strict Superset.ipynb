{
 "cells": [
  {
   "cell_type": "markdown",
   "id": "3e58dd82",
   "metadata": {},
   "source": [
    "# Check Strict Superset"
   ]
  },
  {
   "cell_type": "markdown",
   "id": "ef206b8f",
   "metadata": {},
   "source": [
    "You are given a set $A$ and $n$ other sets.\n",
    "Your job is to find whether set $A$ is a strict superset of each of the $N$ sets.\n",
    "\n",
    "Print $True$, if $A$ is a strict superset of each of the $N$ sets. Otherwise, print $False$.\n",
    "\n",
    "A strict superset has at least one element that does not exist in its subset.\n",
    "\n",
    "Example\n",
    "\n",
    "Set$([1,\\ 3,\\ 4])$ is a strict superset of set$([1,\\ 3])$.\n",
    "\n",
    "Set$([1,\\ 3,\\ 4])$ is not a strict superset of set$([1,\\ 3,\\ 4])$.\n",
    "\n",
    "Set$([1,\\ 3,\\ 4])$ is not a strict superset of set$([1,\\ 3,\\ 5])$.\n",
    "\n",
    "<b>Input Format</b>\n",
    "\n",
    "The first line contains the space separated elements of set $A$.\n",
    "\n",
    "The second line contains integer $n$, the number of other sets.\n",
    "\n",
    "The next $n$ lines contains the space separated elements of the other sets.\n",
    "\n",
    "<b>Constraints</b>\n",
    "\n",
    "$0 < len(set(A)) < 501$\n",
    "\n",
    "$0 < N < 21$\n",
    "\n",
    "$0 < len(OtherSets) < 101$\n",
    "\n",
    "<b>Output Format</b>\n",
    "\n",
    "Print $True$ if set $A$ is a strict superset of all other $N$ sets. Otherwise, print $False$.\n",
    "\n",
    "<b>Sample Input 0</b>"
   ]
  },
  {
   "cell_type": "markdown",
   "id": "326984dc",
   "metadata": {},
   "source": [
    "1 2 3 4 5 6 7 8 9 10 11 12 23 45 84 78\n",
    "2\n",
    "1 2 3 4 5\n",
    "100 11 12"
   ]
  },
  {
   "cell_type": "markdown",
   "id": "920dac60",
   "metadata": {},
   "source": [
    "<b>Sample Output 0</b>"
   ]
  },
  {
   "cell_type": "markdown",
   "id": "4c38c4c2",
   "metadata": {},
   "source": [
    "False"
   ]
  },
  {
   "cell_type": "markdown",
   "id": "60cfde34",
   "metadata": {},
   "source": [
    "<b>Explanation 0</b>"
   ]
  },
  {
   "cell_type": "markdown",
   "id": "9789659b",
   "metadata": {},
   "source": [
    "Set $A$ is the strict superset of the set$([1,\\ 2,\\ 3,\\ 4,\\ 5])$ but not of the set$([100,\\ 11,\\ 12])$ because $100$ is not in set $A$.\n",
    "\n",
    "Hence, the output is False.\n",
    "\n",
    "## Solution"
   ]
  },
  {
   "cell_type": "code",
   "execution_count": 2,
   "id": "4f599a21",
   "metadata": {},
   "outputs": [
    {
     "name": "stdout",
     "output_type": "stream",
     "text": [
      "1 2 3 4 5 6 7 8 9 10 11 12 23 45 84 78\n",
      "2\n",
      "1 2 3 4 5\n",
      "100 11 12\n",
      "False\n"
     ]
    }
   ],
   "source": [
    "A = set(map(int, input().split()))\n",
    "output = True\n",
    "for i in range(int(input())):\n",
    "    B = set(map(int, input().split()))\n",
    "    if len(B - A) != 0 and output == True:\n",
    "        output = False\n",
    "print(output)"
   ]
  }
 ],
 "metadata": {
  "kernelspec": {
   "display_name": "Python 3 (ipykernel)",
   "language": "python",
   "name": "python3"
  },
  "language_info": {
   "codemirror_mode": {
    "name": "ipython",
    "version": 3
   },
   "file_extension": ".py",
   "mimetype": "text/x-python",
   "name": "python",
   "nbconvert_exporter": "python",
   "pygments_lexer": "ipython3",
   "version": "3.10.9"
  }
 },
 "nbformat": 4,
 "nbformat_minor": 5
}
