{
 "cells": [
  {
   "cell_type": "markdown",
   "id": "574ce92a",
   "metadata": {},
   "source": [
    "# Set .symmetric_difference() Operation\n",
    "![SNOWFALL](symmetric_difference.png)\n",
    "\n",
    "<b>.symmetric_difference()</b>\n",
    "\n",
    "The .symmetric_difference() operator returns a set with all the elements that are in the set and the iterable but not both.\n",
    "\n",
    "Sometimes, a ^ operator is used in place of the .symmetric_difference() tool, but it only operates on the set of elements in set.\n",
    "\n",
    "The set is immutable to the .symmetric_difference() operation (or ^ operation).\n",
    "\n",
    "<b>Example</b>"
   ]
  },
  {
   "cell_type": "code",
   "execution_count": null,
   "id": "53707fcf",
   "metadata": {},
   "outputs": [],
   "source": [
    ">>> s = set(\"Hacker\")\n",
    ">>> print s.symmetric_difference(\"Rank\")\n",
    "set(['c', 'e', 'H', 'n', 'R', 'r'])\n",
    "\n",
    ">>> print s.symmetric_difference(set(['R', 'a', 'n', 'k']))\n",
    "set(['c', 'e', 'H', 'n', 'R', 'r'])\n",
    "\n",
    ">>> print s.symmetric_difference(['R', 'a', 'n', 'k'])\n",
    "set(['c', 'e', 'H', 'n', 'R', 'r'])\n",
    "\n",
    ">>> print s.symmetric_difference(enumerate(['R', 'a', 'n', 'k']))\n",
    "set(['a', 'c', 'e', 'H', (0, 'R'), 'r', (2, 'n'), 'k', (1, 'a'), (3, 'k')])\n",
    "\n",
    ">>> print s.symmetric_difference({\"Rank\":1})\n",
    "set(['a', 'c', 'e', 'H', 'k', 'Rank', 'r'])\n",
    "\n",
    ">>> s ^ set(\"Rank\")\n",
    "set(['c', 'e', 'H', 'n', 'R', 'r'])"
   ]
  },
  {
   "cell_type": "markdown",
   "id": "fe23ec2f",
   "metadata": {},
   "source": [
    "<b>Task</b>\n",
    "The students of District College have subscriptions to English and French newspapers. Some students have subscribed only to English, some have subscribed only to French, and some have subscribed to both newspapers.\n",
    "\n",
    "You are given two sets of student roll numbers. One set has subscribed to the English newspaper, one set has subscribed to the French newspaper. Your task is to find the total number of students who have subscribed to both newspapers.\n",
    "\n",
    "<b>Input Format</b>\n",
    "\n",
    "The first line contains $n$, the number of students who have subscribed to the English newspaper.\n",
    "The second line contains $n$ space separated roll numbers of those students.\n",
    "The third line contains $b$, the number of students who have subscribed to the French newspaper.\n",
    "The fourth line contains $b$ space separated roll numbers of those students.\n",
    "\n",
    "<b>Constraints</b>\n",
    "\n",
    "$0< Total number of stundets in college < 1000$\n",
    "\n",
    "<b>Output Format</b>\n",
    "\n",
    "Output the total number of students who have at least one subscription.\n",
    "\n",
    "<b>Sample Input</b>"
   ]
  },
  {
   "cell_type": "markdown",
   "id": "c7fca9b4",
   "metadata": {},
   "source": [
    "9\n",
    "\n",
    "1 2 3 4 5 6 7 8 9\n",
    "\n",
    "9\n",
    "\n",
    "10 1 2 3 11 21 55 6 8"
   ]
  },
  {
   "cell_type": "markdown",
   "id": "f4edd879",
   "metadata": {},
   "source": [
    "<b>Sample Output</b>"
   ]
  },
  {
   "cell_type": "markdown",
   "id": "9b0b661d",
   "metadata": {},
   "source": [
    "8"
   ]
  },
  {
   "cell_type": "markdown",
   "id": "9af44f26",
   "metadata": {},
   "source": [
    "<b>Explanation</b>\n",
    "\n",
    "The roll numbers of students who have subscriptions to English or French newspapers but not both are:\n",
    "\n",
    "$4,\\ 5,\\ 7,\\ 9,\\ 10,\\ 11,\\ 21 $ and $55$.\n",
    "\n",
    "Hence, the total is 8 students.\n",
    "\n",
    "## Solution"
   ]
  },
  {
   "cell_type": "code",
   "execution_count": 1,
   "id": "2502cced",
   "metadata": {},
   "outputs": [
    {
     "name": "stdout",
     "output_type": "stream",
     "text": [
      "9\n",
      "1 2 3 4 5 6 7 8 9\n",
      "9\n",
      "10 1 2 3 11 21 55 6 8\n",
      "8\n"
     ]
    }
   ],
   "source": [
    "n_A = int(input())\n",
    "A = set(map(int, input().split()))\n",
    "n_B = int(input())\n",
    "B = set(map(int, input().split()))\n",
    "\n",
    "print(len(A.symmetric_difference(B)))"
   ]
  },
  {
   "cell_type": "code",
   "execution_count": null,
   "id": "93bc5bd3",
   "metadata": {},
   "outputs": [],
   "source": []
  }
 ],
 "metadata": {
  "kernelspec": {
   "display_name": "Python 3 (ipykernel)",
   "language": "python",
   "name": "python3"
  },
  "language_info": {
   "codemirror_mode": {
    "name": "ipython",
    "version": 3
   },
   "file_extension": ".py",
   "mimetype": "text/x-python",
   "name": "python",
   "nbconvert_exporter": "python",
   "pygments_lexer": "ipython3",
   "version": "3.10.9"
  }
 },
 "nbformat": 4,
 "nbformat_minor": 5
}
