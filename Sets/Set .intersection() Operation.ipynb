{
 "cells": [
  {
   "cell_type": "markdown",
   "id": "34b2796b",
   "metadata": {},
   "source": [
    "# Set .intersection() Operation\n",
    "\n",
    ".intersection()\n",
    "The .intersection() operator returns the intersection of a set and the set of elements in an iterable.\n",
    "Sometimes, the & operator is used in place of the .intersection() operator, but it only operates on the set of elements in set.\n",
    "The set is immutable to the .intersection() operation (or & operation)."
   ]
  },
  {
   "cell_type": "markdown",
   "id": "ce00586b",
   "metadata": {},
   "source": [
    ">>> s = set(\"Hacker\")\n",
    ">>> print s.intersection(\"Rank\")\n",
    "set(['a', 'k'])\n",
    "\n",
    ">>> print s.intersection(set(['R', 'a', 'n', 'k']))\n",
    "set(['a', 'k'])\n",
    "\n",
    ">>> print s.intersection(['R', 'a', 'n', 'k'])\n",
    "set(['a', 'k'])\n",
    "\n",
    ">>> print s.intersection(enumerate(['R', 'a', 'n', 'k']))\n",
    "set([])\n",
    "\n",
    ">>> print s.intersection({\"Rank\":1})\n",
    "set([])\n",
    "\n",
    ">>> s & set(\"Rank\")\n",
    "set(['a', 'k'])"
   ]
  },
  {
   "cell_type": "markdown",
   "id": "ac2a730f",
   "metadata": {},
   "source": [
    "<b>Task</b>\n",
    "The students of District College have subscriptions to English and French newspapers. Some students have subscribed only to English, some have subscribed only to French, and some have subscribed to both newspapers.\n",
    "\n",
    "You are given two sets of student roll numbers. One set has subscribed to the English newspaper, one set has subscribed to the French newspaper. Your task is to find the total number of students who have subscribed to both newspapers.\n",
    "\n",
    "<b>Input Format</b>\n",
    "\n",
    "The first line contains $n$, the number of students who have subscribed to the English newspaper.\n",
    "The second line contains $n$ space separated roll numbers of those students.\n",
    "The third line contains $b$, the number of students who have subscribed to the French newspaper.\n",
    "The fourth line contains $b$ space separated roll numbers of those students.\n",
    "\n",
    "<b>Constraints</b>\n",
    "\n",
    "$0< Total number of stundets in college < 1000$\n",
    "\n",
    "<b>Output Format</b>\n",
    "\n",
    "Output the total number of students who have subscriptions to both English and French newspapers.\n",
    "\n",
    "<b>Sample Input</b>"
   ]
  },
  {
   "cell_type": "markdown",
   "id": "a4bf85cc",
   "metadata": {},
   "source": [
    "9\n",
    "1 2 3 4 5 6 7 8 9\n",
    "9\n",
    "10 1 2 3 11 21 55 6 8"
   ]
  },
  {
   "cell_type": "markdown",
   "id": "23392c29",
   "metadata": {},
   "source": [
    "<b>Sample Output</b>"
   ]
  },
  {
   "cell_type": "markdown",
   "id": "543da849",
   "metadata": {},
   "source": [
    "5"
   ]
  },
  {
   "cell_type": "markdown",
   "id": "55e8affb",
   "metadata": {},
   "source": [
    "<b>Explanation</b>\n",
    "\n",
    "The roll numbers of students who have both subscriptions:\n",
    "\n",
    "$1,\\ 2,\\ 3,\\ 6$ and $8$.\n",
    "\n",
    "Hence, the total is 5 students.\n",
    "\n",
    "## Solution"
   ]
  },
  {
   "cell_type": "code",
   "execution_count": 1,
   "id": "39cb83e2",
   "metadata": {},
   "outputs": [
    {
     "name": "stdout",
     "output_type": "stream",
     "text": [
      "9\n",
      "1 2 3 4 5 6 7 8 9\n",
      "9\n",
      "10 1 2 3 11 21 55 6 8\n",
      "5\n"
     ]
    }
   ],
   "source": [
    "n_A = int(input())\n",
    "A = set(map(int, input().split()))\n",
    "n_B = int(input())\n",
    "B = set(map(int, input().split()))\n",
    "\n",
    "print(len(A.intersection(B)))"
   ]
  },
  {
   "cell_type": "code",
   "execution_count": null,
   "id": "ffbdcea5",
   "metadata": {},
   "outputs": [],
   "source": []
  }
 ],
 "metadata": {
  "kernelspec": {
   "display_name": "Python 3 (ipykernel)",
   "language": "python",
   "name": "python3"
  },
  "language_info": {
   "codemirror_mode": {
    "name": "ipython",
    "version": 3
   },
   "file_extension": ".py",
   "mimetype": "text/x-python",
   "name": "python",
   "nbconvert_exporter": "python",
   "pygments_lexer": "ipython3",
   "version": "3.10.9"
  }
 },
 "nbformat": 4,
 "nbformat_minor": 5
}
