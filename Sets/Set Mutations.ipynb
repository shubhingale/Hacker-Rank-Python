{
 "cells": [
  {
   "cell_type": "markdown",
   "id": "a0a7f5f3",
   "metadata": {},
   "source": [
    "We have seen the applications of union, intersection, difference and symmetric difference operations, but these operations do not make any changes or mutations to the set.\n",
    "\n",
    "We can use the following operations to create mutations to a set:\n",
    "\n",
    ".update() or $|=$\n",
    "Update the set by adding elements from an iterable/another set."
   ]
  },
  {
   "cell_type": "markdown",
   "id": "3260eed4",
   "metadata": {},
   "source": [
    "H = set(\"Hacker\")\n",
    "R = set(\"Rank\")\n",
    "H.update(R)\n",
    "print H\n",
    "set(['a', 'c', 'e', 'H', 'k', 'n', 'r', 'R'])"
   ]
  },
  {
   "cell_type": "markdown",
   "id": "f0e57619",
   "metadata": {},
   "source": [
    ".intersection_update() or $&=$\n",
    "Update the set by keeping only the elements found in it and an iterable/another set."
   ]
  },
  {
   "cell_type": "code",
   "execution_count": null,
   "id": "500caea1",
   "metadata": {},
   "outputs": [],
   "source": [
    "H = set(\"Hacker\")\n",
    "R = set(\"Rank\")\n",
    "H.intersection_update(R)\n",
    "print H\n",
    "set(['a', 'k'])"
   ]
  },
  {
   "cell_type": "markdown",
   "id": "6aa37cbf",
   "metadata": {},
   "source": [
    "<b>.difference_update()</b> or $-=$\n",
    "\n",
    "Update the set by removing elements found in an iterable/another set."
   ]
  },
  {
   "cell_type": "code",
   "execution_count": null,
   "id": "09f3b537",
   "metadata": {},
   "outputs": [],
   "source": [
    "H = set(\"Hacker\")\n",
    "R = set(\"Rank\")\n",
    "H.difference_update(R)\n",
    "print H\n",
    "set(['c', 'e', 'H', 'r'])"
   ]
  },
  {
   "cell_type": "markdown",
   "id": "038bf2db",
   "metadata": {},
   "source": [
    "<b>.symmetric_difference_update()</b> or ^=\n",
    "\n",
    "Update the set by only keeping the elements found in either set, but not in both."
   ]
  },
  {
   "cell_type": "code",
   "execution_count": null,
   "id": "574874f9",
   "metadata": {},
   "outputs": [],
   "source": [
    "H = set(\"Hacker\")\n",
    "R = set(\"Rank\")\n",
    "H.symmetric_difference_update(R)\n",
    "print H\n",
    "set(['c', 'e', 'H', 'n', 'r', 'R'])"
   ]
  },
  {
   "cell_type": "markdown",
   "id": "c234e637",
   "metadata": {},
   "source": [
    "<b>TASK</b>\n",
    "\n",
    "You are given a set $A$ and $N$ number of other sets. These  number of sets have to perform some specific mutation operations on set $A$.\n",
    "\n",
    "Your task is to execute those operations and print the sum of elements from set $A$.\n",
    "\n",
    "Input Format\n",
    "\n",
    "The first line contains the number of elements in set $A$.\n",
    "The second line contains the space separated list of elements in set $A$.\n",
    "The third line contains integer $N$, the number of other sets.\n",
    "The next $2 X N$ lines are divided into $N$ parts containing two lines each.\n",
    "The first line of each part contains the space separated entries of the operation name and the length of the other set.\n",
    "The second line of each part contains space separated list of elements in the other set.\n",
    "\n",
    "$$0 < len(set(A)) < 1000$$\n",
    "$$0 < len(otherSets) < 100$$\n",
    "$$0 < N < 100$$\n",
    "<b>Output Format</b>\n",
    "\n",
    "Output the sum of elements in set $A$.\n",
    "\n",
    "<b>Sample Input</b>"
   ]
  },
  {
   "cell_type": "markdown",
   "id": "7b38ee07",
   "metadata": {},
   "source": [
    "16\n",
    "1 2 3 4 5 6 7 8 9 10 11 12 13 14 24 52\n",
    "4\n",
    "intersection_update 10\n",
    "2 3 5 6 8 9 1 4 7 11\n",
    "update 2\n",
    "55 66\n",
    "symmetric_difference_update 5\n",
    "22 7 35 62 58\n",
    "difference_update 7\n",
    "11 22 35 55 58 62 66"
   ]
  },
  {
   "cell_type": "markdown",
   "id": "4d1a6c13",
   "metadata": {},
   "source": [
    "<b>Sample Output</b>"
   ]
  },
  {
   "cell_type": "code",
   "execution_count": null,
   "id": "51f3c972",
   "metadata": {},
   "outputs": [],
   "source": [
    "38"
   ]
  },
  {
   "cell_type": "markdown",
   "id": "433d2530",
   "metadata": {},
   "source": [
    "<b>Explanation</b>\n",
    "\n",
    "After the first operation, (intersection_update operation), we get:\n",
    "\n",
    "set $A = set([1, 2, 3, 4, 5, 6, 7, 8, 9, 11])$\n",
    "\n",
    "After the second operation, (update operation), we get:\n",
    "\n",
    "set $A = set([1, 2, 3, 4, 5, 6, 7, 8, 9, 11, 55, 66])$\n",
    "\n",
    "After the third operation, (symmetric_difference_update operation), we get:\n",
    "\n",
    "set $A = set([1, 2, 3, 4, 5, 6, 7, 8, 9, 11, 22, 35, 55, 58, 62, 66])$\n",
    "\n",
    "After the fourth operation, ( difference_update operation), we get:\\\n",
    "\n",
    "set $A = set([1, 2, 3, 4, 5, 6, 8, 9])$\n",
    "\n",
    "The sum of elements in set $A$ after these operations is $38$.\n"
   ]
  },
  {
   "cell_type": "code",
   "execution_count": 18,
   "id": "f1e786e4",
   "metadata": {},
   "outputs": [
    {
     "name": "stdout",
     "output_type": "stream",
     "text": [
      "16\n",
      "1 2 3 4 5 6 7 8 9 10 11 12 13 14 24 52\n",
      "4\n",
      "intersection_update 10\n",
      "2 3 5 6 8 9 1 4 7 11\n",
      "update 2\n",
      "55 66\n",
      "symmetric_difference_update 5\n",
      "22 7 35 62 58\n",
      "difference_update 7\n",
      "11 22 35 55 58 62 66\n",
      "38\n"
     ]
    }
   ],
   "source": [
    "if __name__ == '__main__':\n",
    "    (_, A) = (int(input()),set(map(int, input().split())))\n",
    "    B = int(input())\n",
    "    for _ in range(B):\n",
    "        (command, newSet) = (input().split()[0],set(map(int, input().split())))\n",
    "        getattr(A, command)(newSet)\n",
    "\n",
    "    print (sum(A))"
   ]
  }
 ],
 "metadata": {
  "kernelspec": {
   "display_name": "Python 3 (ipykernel)",
   "language": "python",
   "name": "python3"
  },
  "language_info": {
   "codemirror_mode": {
    "name": "ipython",
    "version": 3
   },
   "file_extension": ".py",
   "mimetype": "text/x-python",
   "name": "python",
   "nbconvert_exporter": "python",
   "pygments_lexer": "ipython3",
   "version": "3.10.9"
  }
 },
 "nbformat": 4,
 "nbformat_minor": 5
}
