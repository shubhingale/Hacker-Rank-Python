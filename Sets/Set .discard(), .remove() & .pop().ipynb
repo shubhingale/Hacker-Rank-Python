{
 "cells": [
  {
   "cell_type": "markdown",
   "id": "0c936c2a",
   "metadata": {},
   "source": [
    "# Set .discard(), .remove() & .pop()\n",
    "\n",
    "<b>.remove(x)</b>\n",
    "\n",
    "This operation removes element  from the set.\n",
    "\n",
    "If element  does not exist, it raises a KeyError.\n",
    "\n",
    "The .remove(x) operation returns None.\n",
    "\n",
    "<b>Example</b>"
   ]
  },
  {
   "cell_type": "markdown",
   "id": "ce15221b",
   "metadata": {},
   "source": [
    ">>> s = set([1, 2, 3, 4, 5, 6, 7, 8, 9])\n",
    ">>> s.remove(5)\n",
    ">>> print s\n",
    "set([1, 2, 3, 4, 6, 7, 8, 9])\n",
    ">>> print s.remove(4)\n",
    "None\n",
    ">>> print s\n",
    "set([1, 2, 3, 6, 7, 8, 9])\n",
    ">>> s.remove(0)\n",
    "KeyError: 0"
   ]
  },
  {
   "cell_type": "markdown",
   "id": "8ca5c3d2",
   "metadata": {},
   "source": [
    "<b>.discard(x)</b>\n",
    "\n",
    "This operation also removes element $x$ from the set.\n",
    "\n",
    "If element $x$ does not exist, it does not raise a KeyError.\n",
    "\n",
    "The .discard$(x)$ operation returns None.\n",
    "<b>Example</b>"
   ]
  },
  {
   "cell_type": "markdown",
   "id": "e682c0c9",
   "metadata": {},
   "source": [
    ">>> s = set([1, 2, 3, 4, 5, 6, 7, 8, 9])\n",
    ">>> s.discard(5)\n",
    ">>> print s\n",
    "set([1, 2, 3, 4, 6, 7, 8, 9])\n",
    ">>> print s.discard(4)\n",
    "None\n",
    ">>> print s\n",
    "set([1, 2, 3, 6, 7, 8, 9])\n",
    ">>> s.discard(0)\n",
    ">>> print s\n",
    "set([1, 2, 3, 6, 7, 8, 9])"
   ]
  },
  {
   "cell_type": "markdown",
   "id": "6af81609",
   "metadata": {},
   "source": [
    "<b>.pop()</b>\n",
    "\n",
    "This operation removes and return an arbitrary element from the set.\n",
    "\n",
    "If there are no elements to remove, it raises a KeyError.\n",
    "\n",
    "<b>Example</b>"
   ]
  },
  {
   "cell_type": "markdown",
   "id": "e157f2d3",
   "metadata": {},
   "source": [
    ">>> s = set([1])\n",
    ">>> print s.pop()\n",
    "1\n",
    ">>> print s\n",
    "set([])\n",
    ">>> print s.pop()\n",
    "KeyError: pop from an empty set"
   ]
  },
  {
   "cell_type": "markdown",
   "id": "95c63efa",
   "metadata": {},
   "source": [
    "<b>Task</b>\n",
    "\n",
    "You have a non-empty set $s$, and you have to execute $N$ commands given in $N$ lines.\n",
    "\n",
    "The commands will be pop, remove and discard.\n",
    "\n",
    "<b>Input Format</b>\n",
    "\n",
    "The first line contains integer $n$, the number of elements in the set $s$.\n",
    "\n",
    "The second line contains $n$ space separated elements of set $s$. All of the elements are non-negative integers, less than or equal to 9.\n",
    "\n",
    "The third line contains integer $N$, the number of commands.\n",
    "\n",
    "The next $N$ lines contains either pop, remove and/or discard commands followed by their associated value.\n",
    "<b>Constraints</b>\n",
    "\n",
    "$0 < n < 20$\n",
    "\n",
    "$0 < N < 20$\n",
    "\n",
    "<b>Output Format</b>\n",
    "\n",
    "Print the sum of the elements of set $s$ on a single line.\n",
    "\n",
    "<b>Sample Input</b>"
   ]
  },
  {
   "cell_type": "markdown",
   "id": "c5fda2a7",
   "metadata": {},
   "source": [
    "9\n",
    "1 2 3 4 5 6 7 8 9\n",
    "10\n",
    "pop\n",
    "remove 9\n",
    "discard 9\n",
    "discard 8\n",
    "remove 7\n",
    "pop \n",
    "discard 6\n",
    "remove 5\n",
    "pop \n",
    "discard 5"
   ]
  },
  {
   "cell_type": "markdown",
   "id": "382f7c0d",
   "metadata": {},
   "source": [
    "<b>Sample Output</b>"
   ]
  },
  {
   "cell_type": "markdown",
   "id": "0abf50f0",
   "metadata": {},
   "source": [
    "4"
   ]
  },
  {
   "cell_type": "markdown",
   "id": "4298995d",
   "metadata": {},
   "source": [
    "<b>Explanation</b>\n",
    "\n",
    "After completing these $10$ operations on the set, we get set$([4])$. Hence, the sum is $4$.\n",
    "\n",
    "Note: Convert the elements of set s to integers while you are assigning them. To ensure the proper input of the set, we have added the first two lines of code to the editor.\n",
    "\n",
    "## Solution"
   ]
  },
  {
   "cell_type": "code",
   "execution_count": 11,
   "id": "fd7817d4",
   "metadata": {},
   "outputs": [
    {
     "name": "stdout",
     "output_type": "stream",
     "text": [
      "9\n",
      "1 2 3 4 5 6 7 8 9\n",
      "10\n",
      "pop\n",
      "remove 9\n",
      "discard 9\n",
      "discard 8\n",
      "remove 7\n",
      "pop\n",
      "discard 6\n",
      "remove 5\n",
      "pop\n",
      "discard 5\n",
      "4\n"
     ]
    }
   ],
   "source": [
    "n = int(input())\n",
    "s = set(map(int, input().split()))\n",
    "n_op = int(input())\n",
    "for x in range(n_op):\n",
    "    operations = input().split()\n",
    "    if operations[0] == \"remove\":\n",
    "        s.remove(int(operations[1]))\n",
    "    if operations[0] == \"discard\":\n",
    "        s.discard(int(operations[1]))\n",
    "    if operations[0] == \"pop\":\n",
    "        s.pop()\n",
    "print(sum(s))"
   ]
  }
 ],
 "metadata": {
  "kernelspec": {
   "display_name": "Python 3 (ipykernel)",
   "language": "python",
   "name": "python3"
  },
  "language_info": {
   "codemirror_mode": {
    "name": "ipython",
    "version": 3
   },
   "file_extension": ".py",
   "mimetype": "text/x-python",
   "name": "python",
   "nbconvert_exporter": "python",
   "pygments_lexer": "ipython3",
   "version": "3.10.9"
  }
 },
 "nbformat": 4,
 "nbformat_minor": 5
}
