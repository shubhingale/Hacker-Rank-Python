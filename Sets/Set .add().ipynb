{
 "cells": [
  {
   "cell_type": "markdown",
   "id": "9012b568",
   "metadata": {},
   "source": [
    "# Set .add()\n",
    "\n",
    "If we want to add a single element to an existing set, we can use the .add() operation.\n",
    "\n",
    "It adds the element to the set and returns 'None'.\n",
    "\n",
    "<b>Example</b>"
   ]
  },
  {
   "cell_type": "markdown",
   "id": "29fbb393",
   "metadata": {},
   "source": [
    ">>> s = set('HackerRank')\n",
    ">>> s.add('H')\n",
    ">>> print s\n",
    "set(['a', 'c', 'e', 'H', 'k', 'n', 'r', 'R'])\n",
    ">>> print s.add('HackerRank')\n",
    "None\n",
    ">>> print s\n",
    "set(['a', 'c', 'e', 'HackerRank', 'H', 'k', 'n', 'r', 'R'])"
   ]
  },
  {
   "cell_type": "markdown",
   "id": "a61ad69c",
   "metadata": {},
   "source": [
    "<b>Task</b>\n",
    "\n",
    "Apply your knowledge of the .add() operation to help your friend Rupal.\n",
    "\n",
    "Rupal has a huge collection of country stamps. She decided to count the total number of distinct country stamps in her collection. She asked for your help. You pick the stamps one by one from a stack of $N$ country stamps.\n",
    "\n",
    "Find the total number of distinct country stamps.\n",
    "\n",
    "<b>Input Format</b>\n",
    "\n",
    "The first line contains an integer $N$, the total number of country stamps.\n",
    "The next $N$ lines contains the name of the country where the stamp is from.\n",
    "\n",
    "<b>Constraints</b>\n",
    "$0 < N < 1000$\n",
    "\n",
    "<b>Output Format</b>\n",
    "\n",
    "Output the total number of distinct country stamps on a single line.\n",
    "\n",
    "<b>Sample Input</b>"
   ]
  },
  {
   "cell_type": "markdown",
   "id": "8b6e2356",
   "metadata": {},
   "source": [
    "7\n",
    "UK\n",
    "China\n",
    "USA\n",
    "France\n",
    "New Zealand\n",
    "UK\n",
    "France "
   ]
  },
  {
   "cell_type": "markdown",
   "id": "de7a48f0",
   "metadata": {},
   "source": [
    "<b>Sample Output</b>"
   ]
  },
  {
   "cell_type": "markdown",
   "id": "755f9e60",
   "metadata": {},
   "source": [
    "5"
   ]
  },
  {
   "cell_type": "markdown",
   "id": "41265787",
   "metadata": {},
   "source": [
    "<b>Explanation</b>\n",
    "\n",
    "UK and France repeat twice. Hence, the total number of distinct country stamps is 5 (five).\n",
    "\n",
    "## Solution"
   ]
  },
  {
   "cell_type": "code",
   "execution_count": 1,
   "id": "361bc34c",
   "metadata": {},
   "outputs": [
    {
     "name": "stdout",
     "output_type": "stream",
     "text": [
      "7\n",
      "UK\n",
      "China\n",
      "USA\n",
      "France\n",
      "New Zealand\n",
      "UK\n",
      "France\n",
      "5\n"
     ]
    }
   ],
   "source": [
    "n = int(input())\n",
    "countries = []\n",
    "for i in range(n):\n",
    "    countries.append(input())\n",
    "print(len(set(countries)))"
   ]
  }
 ],
 "metadata": {
  "kernelspec": {
   "display_name": "Python 3 (ipykernel)",
   "language": "python",
   "name": "python3"
  },
  "language_info": {
   "codemirror_mode": {
    "name": "ipython",
    "version": 3
   },
   "file_extension": ".py",
   "mimetype": "text/x-python",
   "name": "python",
   "nbconvert_exporter": "python",
   "pygments_lexer": "ipython3",
   "version": "3.10.9"
  }
 },
 "nbformat": 4,
 "nbformat_minor": 5
}
