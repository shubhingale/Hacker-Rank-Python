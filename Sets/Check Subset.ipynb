{
 "cells": [
  {
   "cell_type": "markdown",
   "id": "c79dd557",
   "metadata": {},
   "source": [
    "# Check Subset\n",
    "\n",
    "You are given two sets, $A$ and $B$.\n",
    "Your job is to find whether set $A$ is a subset of set $B$.\n",
    "\n",
    "If set $A$ is subset of set $B$, print <b>True</b>.\n",
    "If set $A$ is not a subset of set $B$, print <b>False</b>.\n",
    "\n",
    "<b>Input Format</b>\n",
    "\n",
    "The first line will contain the number of test cases, $T$.\n",
    "\n",
    "The first line of each test case contains the number of elements in set $A$.\n",
    "\n",
    "The second line of each test case contains the space separated elements of set $A$.\n",
    "\n",
    "The third line of each test case contains the number of elements in set $B$.\n",
    "\n",
    "The fourth line of each test case contains the space separated elements of set $B$.\n",
    "\n",
    "<b>Constraints</b>\n",
    "\n",
    "$0 < T < 21$\n",
    "\n",
    "$0 < Number of elements in each set < 1001$\n",
    "\n",
    "<b>Output Format</b>\n",
    "\n",
    "Output True or False for each test case on separate lines.\n",
    "\n",
    "<b>Sample Input</b>"
   ]
  },
  {
   "cell_type": "markdown",
   "id": "fcf382d3",
   "metadata": {},
   "source": [
    "3\n",
    "5\n",
    "1 2 3 5 6\n",
    "9\n",
    "9 8 5 6 3 2 1 4 7\n",
    "1\n",
    "2\n",
    "5\n",
    "3 6 5 4 1\n",
    "7\n",
    "1 2 3 5 6 8 9\n",
    "3\n",
    "9 8 2"
   ]
  },
  {
   "cell_type": "markdown",
   "id": "9feaf396",
   "metadata": {},
   "source": [
    "<b>Sample Output</b>"
   ]
  },
  {
   "cell_type": "markdown",
   "id": "1f7a0661",
   "metadata": {},
   "source": [
    "True \n",
    "False\n",
    "False"
   ]
  },
  {
   "cell_type": "markdown",
   "id": "f3a63262",
   "metadata": {},
   "source": [
    "Explanation\n",
    "\n",
    "Test Case 01 Explanation\n",
    "\n",
    "Set $A = \\{1\\ 2\\ 3\\ 5\\ 6\\}$\n",
    "\n",
    "Set $B = \\{9\\ 8\\ 5\\ 6\\ 3\\ 2\\ 1\\ 4\\ 7\\}$\n",
    "\n",
    "All the elements of set $A$ are elements of set $B$.\n",
    "\n",
    "Hence, set $A$ is a subset of set $B$.\n",
    "\n",
    "## Solution"
   ]
  },
  {
   "cell_type": "code",
   "execution_count": null,
   "id": "78c74c28",
   "metadata": {},
   "outputs": [
    {
     "name": "stdout",
     "output_type": "stream",
     "text": [
      "3\n",
      "5\n",
      "1 2 3 5 6\n",
      "9\n",
      "9 8 5 6 3 2 1 4 7\n",
      "True\n"
     ]
    }
   ],
   "source": [
    "for i in range(int(input())):\n",
    "    n_A = int(input())\n",
    "    A = set(map(int, input().split()))\n",
    "    n_A = int(input())\n",
    "    B = set(map(int, input().split()))\n",
    "    if len(A - B) == 0:\n",
    "        print(\"True\")\n",
    "    else:\n",
    "        print(\"False\")"
   ]
  },
  {
   "cell_type": "code",
   "execution_count": null,
   "id": "c2cbdb61",
   "metadata": {},
   "outputs": [],
   "source": []
  }
 ],
 "metadata": {
  "kernelspec": {
   "display_name": "Python 3 (ipykernel)",
   "language": "python",
   "name": "python3"
  },
  "language_info": {
   "codemirror_mode": {
    "name": "ipython",
    "version": 3
   },
   "file_extension": ".py",
   "mimetype": "text/x-python",
   "name": "python",
   "nbconvert_exporter": "python",
   "pygments_lexer": "ipython3",
   "version": "3.10.9"
  }
 },
 "nbformat": 4,
 "nbformat_minor": 5
}
