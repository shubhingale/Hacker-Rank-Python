{
 "cells": [
  {
   "cell_type": "markdown",
   "id": "acd487ad",
   "metadata": {},
   "source": [
    "# 011 - Finding The Percentage\n",
    "## Problem\n",
    "You have a record of N students. Each record contains the student's name, and their percent marks in Maths, Physics and Chemistry. The marks can be floating values. The user enters some integer N followed by the names and marks for N students. You are required to save the record in a dictionary data type. The user then enters a student's name. Output the average percentage marks obtained by that student, correct to two decimal places.\n",
    "\n",
    "#### Input Format\n",
    "The first line contains the integer N, the number of students. The next N lines contains the name and marks obtained by that student separated by a space. The final line contains the name of a particular student previously listed.\n",
    "\n",
    "#### Constraints\n",
    "2 <= N <= 10 \n",
    "\n",
    "0 <= Marks <= 100\n",
    "\n",
    "#### Output Format\n",
    "Print one line : The average of the marks obtained by the particular student correct to 2 decimal places.\n",
    "\n",
    "#### Sample Input 0"
   ]
  },
  {
   "cell_type": "markdown",
   "id": "c759da51",
   "metadata": {},
   "source": [
    "3\n",
    "Krishna 67 68 69\n",
    "Arjun 70 98 63\n",
    "Malika 52 56 60\n",
    "Malika"
   ]
  },
  {
   "cell_type": "markdown",
   "id": "2d1e96bf",
   "metadata": {},
   "source": [
    "#### Sample Output 0 "
   ]
  },
  {
   "cell_type": "markdown",
   "id": "cd99b424",
   "metadata": {},
   "source": [
    "56.00"
   ]
  },
  {
   "cell_type": "markdown",
   "id": "742c40b3",
   "metadata": {},
   "source": [
    "#### Explanation 0\n",
    "\n",
    "Marks for Malika are {52,56,60} whose average is (52+56+60)/3 = 56\n",
    "\n",
    "\n",
    "#### Sample Input 1"
   ]
  },
  {
   "cell_type": "markdown",
   "id": "d06965da",
   "metadata": {},
   "source": [
    "2\n",
    "Harsh 25 26.5 28\n",
    "Anurag 26 28 30\n",
    "Harsh"
   ]
  },
  {
   "cell_type": "markdown",
   "id": "dde4ce38",
   "metadata": {},
   "source": [
    "#### Sample Output 1"
   ]
  },
  {
   "cell_type": "markdown",
   "id": "18cf7c9e",
   "metadata": {},
   "source": [
    "26.50"
   ]
  },
  {
   "cell_type": "markdown",
   "id": "cabcc3b7",
   "metadata": {},
   "source": [
    "#### Given Code"
   ]
  },
  {
   "cell_type": "markdown",
   "id": "b305f972",
   "metadata": {},
   "source": [
    "if __name__ == '__main__':\n",
    "    n = int(input())\n",
    "    student_marks = {}\n",
    "    for _ in range(n):\n",
    "        name, *line = input().split()\n",
    "        scores = list(map(float, line))\n",
    "        student_marks[name] = scores\n",
    "        \n",
    "    query_name = input()"
   ]
  },
  {
   "cell_type": "markdown",
   "id": "d58a1e62",
   "metadata": {},
   "source": [
    "# Solution 1"
   ]
  },
  {
   "cell_type": "code",
   "execution_count": 5,
   "id": "c55a5831",
   "metadata": {
    "scrolled": true
   },
   "outputs": [
    {
     "name": "stdout",
     "output_type": "stream",
     "text": [
      "2\n",
      "Harsh 25 26.5 28\n",
      "Anurag 26 28 30\n",
      "Anurag\n",
      "28.00\n"
     ]
    }
   ],
   "source": [
    "if __name__ == '__main__':\n",
    "    n = int(input())\n",
    "    student_marks = {}\n",
    "    for _ in range(n):\n",
    "        name, *line = input().split()\n",
    "        scores = list(map(float, line))\n",
    "        student_marks[name] = scores\n",
    "        \n",
    "    query_name = input()\n",
    "    print(find_percentage(query_name))\n",
    "    \n",
    "def find_percentage(name):\n",
    "    return f\"{sum(student_marks[name])/len(student_marks[name]):.2f}\""
   ]
  },
  {
   "cell_type": "markdown",
   "id": "4d217e86",
   "metadata": {},
   "source": [
    "# Solution 2"
   ]
  },
  {
   "cell_type": "code",
   "execution_count": 6,
   "id": "6ef98ede",
   "metadata": {},
   "outputs": [
    {
     "name": "stdout",
     "output_type": "stream",
     "text": [
      "2\n",
      "Harsh 25 26.5 28\n",
      "Anurag 26 28 30\n",
      "Anurag\n",
      "28.00\n"
     ]
    }
   ],
   "source": [
    "from functools import reduce\n",
    "\n",
    "if __name__ == '__main__':\n",
    "    n = int(input())\n",
    "    student_marks = {}\n",
    "    for _ in range(n):\n",
    "        name, *line = input().split()\n",
    "        scores = list(map(float, line))\n",
    "        student_marks[name] = scores\n",
    "    query_name = input()\n",
    "\n",
    "    marks = student_marks[query_name]\n",
    "    sum_marks = reduce(lambda x, y: x + y, marks, 0)\n",
    "    avg_marks = sum_marks/len(marks)\n",
    "    print(\"{:.2f}\".format(avg_marks))"
   ]
  }
 ],
 "metadata": {
  "kernelspec": {
   "display_name": "Python 3 (ipykernel)",
   "language": "python",
   "name": "python3"
  },
  "language_info": {
   "codemirror_mode": {
    "name": "ipython",
    "version": 3
   },
   "file_extension": ".py",
   "mimetype": "text/x-python",
   "name": "python",
   "nbconvert_exporter": "python",
   "pygments_lexer": "ipython3",
   "version": "3.10.9"
  }
 },
 "nbformat": 4,
 "nbformat_minor": 5
}
