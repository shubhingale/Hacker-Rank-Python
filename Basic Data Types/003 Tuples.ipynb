{
 "cells": [
  {
   "cell_type": "markdown",
   "id": "d02e2d2c",
   "metadata": {},
   "source": [
    "# Tuples\n",
    "\n",
    "<b>Task</b>\n",
    "Given an integer, $n$, and $n$ space-separated integers as input, create a tuple, $t$, of those $n$ integers. Then compute and print the result of $hash(t)$.\n",
    "\n",
    "Note: hash() is one of the functions in the __builtins__ module, so it need not be imported.\n",
    "\n",
    "<b>Input Format</b>\n",
    "\n",
    "The first line contains an integer, $n$, denoting the number of elements in the tuple.\n",
    "The second line contains $n$ space-separated integers describing the elements in tuple $t$.\n",
    "\n",
    "<b>Output Format</b>\n",
    "\n",
    "Print the result of $hash(t)$.\n",
    "\n",
    "<b>Sample Input 0</b>"
   ]
  },
  {
   "cell_type": "raw",
   "id": "5913a722",
   "metadata": {},
   "source": [
    "2\n",
    "1 2"
   ]
  },
  {
   "cell_type": "markdown",
   "id": "e673265f",
   "metadata": {},
   "source": [
    "<b>Sample Output 0</b>"
   ]
  },
  {
   "cell_type": "code",
   "execution_count": null,
   "id": "b6290f47",
   "metadata": {},
   "outputs": [],
   "source": [
    "3713081631934410656"
   ]
  },
  {
   "cell_type": "markdown",
   "id": "dc0f6a68",
   "metadata": {},
   "source": [
    "## Solution"
   ]
  },
  {
   "cell_type": "code",
   "execution_count": 3,
   "id": "15599cf7",
   "metadata": {},
   "outputs": [
    {
     "name": "stdout",
     "output_type": "stream",
     "text": [
      "2\n",
      "1 2\n",
      "-3550055125485641917\n"
     ]
    }
   ],
   "source": [
    "if __name__ == '__main__':\n",
    "    n = int(input())\n",
    "    Tuple1 = tuple(map(int, input().split()))\n",
    "    print(hash(Tuple1))"
   ]
  },
  {
   "cell_type": "code",
   "execution_count": null,
   "id": "03e7b42a",
   "metadata": {},
   "outputs": [],
   "source": []
  }
 ],
 "metadata": {
  "kernelspec": {
   "display_name": "Python 3 (ipykernel)",
   "language": "python",
   "name": "python3"
  },
  "language_info": {
   "codemirror_mode": {
    "name": "ipython",
    "version": 3
   },
   "file_extension": ".py",
   "mimetype": "text/x-python",
   "name": "python",
   "nbconvert_exporter": "python",
   "pygments_lexer": "ipython3",
   "version": "3.9.13"
  }
 },
 "nbformat": 4,
 "nbformat_minor": 5
}
