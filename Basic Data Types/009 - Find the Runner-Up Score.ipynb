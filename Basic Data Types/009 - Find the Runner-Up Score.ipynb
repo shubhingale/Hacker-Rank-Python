{
 "cells": [
  {
   "cell_type": "markdown",
   "id": "1d2e7e37",
   "metadata": {},
   "source": [
    "# 009 - Find the Runner-Up Score\n",
    "## Problem\n",
    "Given the participants' score sheet for your University Sports Day, you are required to find the runner-up n score. You are given scores. Store them in a list and find the score of the runner-up.\n",
    "\n",
    "Input Format\n",
    "The first line contains n. The second line contains an array $A[]$ of n integers each separated by a space.\n",
    "\n",
    "Constraints\n",
    "$2 <= n <= 10 -100 <= A[i] <= 100$\n",
    "\n",
    "Output Format\n",
    "Print the runner-up score."
   ]
  },
  {
   "cell_type": "markdown",
   "id": "a85bc87b",
   "metadata": {},
   "source": [
    "Sample Input :\n",
    "5\n",
    "2 3 6 6 5"
   ]
  },
  {
   "cell_type": "markdown",
   "id": "cf1ca0ec",
   "metadata": {},
   "source": [
    "Sample Output :\n",
    "5"
   ]
  },
  {
   "cell_type": "markdown",
   "id": "9b776f12",
   "metadata": {},
   "source": [
    "### Explanation\n",
    "Given list is $[2,3,6,6,5]$. The maximum score is 6, second maximum is 5. Hence, we print 5 as the runner-up score.\n",
    "\n",
    "Given Code"
   ]
  },
  {
   "cell_type": "markdown",
   "id": "1c1a709c",
   "metadata": {},
   "source": [
    "if __name__ == '__main__':\n",
    "    n = int(input())\n",
    "    arr = map(int, input().split())"
   ]
  },
  {
   "cell_type": "markdown",
   "id": "57ba6fd5",
   "metadata": {},
   "source": [
    "## Solution 1"
   ]
  },
  {
   "cell_type": "code",
   "execution_count": 1,
   "id": "eb6fb28d",
   "metadata": {
    "scrolled": true
   },
   "outputs": [
    {
     "name": "stdout",
     "output_type": "stream",
     "text": [
      "5\n",
      "98 68 48 82 35\n",
      "Runner-Up Score : 82\n"
     ]
    }
   ],
   "source": [
    "if __name__ == '__main__':\n",
    "    n = int(input())\n",
    "    arr = map(int, input().split())\n",
    "\n",
    "    print(\"Runner-Up Score :\", sorted(set(arr), reverse=True)[1])"
   ]
  },
  {
   "cell_type": "markdown",
   "id": "ea9a5056",
   "metadata": {},
   "source": [
    "## Solution 2"
   ]
  },
  {
   "cell_type": "code",
   "execution_count": 2,
   "id": "fee5e490",
   "metadata": {},
   "outputs": [
    {
     "name": "stdout",
     "output_type": "stream",
     "text": [
      "5\n",
      "98 68 48 82 35\n",
      "Runner-Up Score : 82\n"
     ]
    }
   ],
   "source": [
    "if __name__ == '__main__':\n",
    "    n = int(input())\n",
    "    arr = list(map(int, input().split()))\n",
    "    mx = max(arr)\n",
    "    runner_up = 0\n",
    "    for num in arr:\n",
    "        if mx > num and num > runner_up:\n",
    "            runner_up = num\n",
    "    print(\"Runner-Up Score :\", runner_up)"
   ]
  },
  {
   "cell_type": "code",
   "execution_count": null,
   "id": "0c395465",
   "metadata": {},
   "outputs": [],
   "source": []
  }
 ],
 "metadata": {
  "kernelspec": {
   "display_name": "Python 3 (ipykernel)",
   "language": "python",
   "name": "python3"
  },
  "language_info": {
   "codemirror_mode": {
    "name": "ipython",
    "version": 3
   },
   "file_extension": ".py",
   "mimetype": "text/x-python",
   "name": "python",
   "nbconvert_exporter": "python",
   "pygments_lexer": "ipython3",
   "version": "3.10.9"
  }
 },
 "nbformat": 4,
 "nbformat_minor": 5
}
