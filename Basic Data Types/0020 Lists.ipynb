{
 "cells": [
  {
   "cell_type": "markdown",
   "id": "0443d13c",
   "metadata": {},
   "source": [
    "# Lists\n",
    "\n",
    "Consider a list ($list = []$). You can perform the following commands:\n",
    "\n",
    "<ol>\n",
    "    <li>insert i e: Insert integer $e$ at position $i$.<br>\n",
    "<li>print: Print the list.<br>\n",
    "<li>remove e: Delete the first occurrence of integer $e$.<br>\n",
    "<li>append e: Insert integer $e$ at the end of the list.<br>\n",
    "<li>sort: Sort the list.<br>\n",
    "<li>pop: Pop the last element from the list.<br>\n",
    "<li>reverse: Reverse the list.<br>\n",
    "</ol>\n",
    "Initialize your list and read in the value of  followed by $n$ lines of commands where each command will be of the $7$ types listed above. Iterate through each command in order and perform the corresponding operation on your list.<br>\n",
    "\n",
    "<b>Example</b>\n",
    "\n",
    "$N = 4$<br>\n",
    "$append 1$<br>\n",
    "$append 2$<br>\n",
    "$inset 3 1$<br>\n",
    "$print$<br>\n",
    "\n",
    "$append 1$: Append  to the list, $arr = [1]$.<br>\n",
    "$append 1$: Append  to the list, $arr = [1, 2]$.<br>\n",
    "$inset 3 1$: Insert  at index , $arr = [1, 3, 2]$.<br>\n",
    "$print$: Print the array.<br>\n",
    "\n",
    "<b>Output:</b>"
   ]
  },
  {
   "cell_type": "code",
   "execution_count": null,
   "id": "88fc88b1",
   "metadata": {},
   "outputs": [],
   "source": [
    "[1, 3, 2]"
   ]
  },
  {
   "cell_type": "markdown",
   "id": "dc842524",
   "metadata": {},
   "source": [
    "<b>Input Format</b>\n",
    "\n",
    "The first line contains an integer, $n$, denoting the number of commands.\n",
    "Each line $i$ of the $n$ subsequent lines contains one of the commands described above.\n",
    "\n",
    "<b>Constraints</b>\n",
    "<ol>\n",
    "- The elements added to the list must be integers.\n",
    "</ol>\n",
    "    \n",
    "<b>Output Format</b>\n",
    "\n",
    "For each command of type $print$, print the list on a new line.\n",
    "\n",
    "<b>Sample Input 0</b>"
   ]
  },
  {
   "cell_type": "code",
   "execution_count": null,
   "id": "0483c39d",
   "metadata": {},
   "outputs": [],
   "source": [
    "12\n",
    "insert 0 5\n",
    "insert 1 10\n",
    "insert 0 6\n",
    "print\n",
    "remove 6\n",
    "append 9\n",
    "append 1\n",
    "sort\n",
    "print\n",
    "pop\n",
    "reverse\n",
    "print"
   ]
  },
  {
   "cell_type": "markdown",
   "id": "a8ef4cc0",
   "metadata": {},
   "source": [
    "<b>Sample Output 0</b>"
   ]
  },
  {
   "cell_type": "code",
   "execution_count": null,
   "id": "44ce2058",
   "metadata": {},
   "outputs": [],
   "source": [
    "[6, 5, 10]\n",
    "[1, 5, 9, 10]\n",
    "[9, 5, 1]"
   ]
  },
  {
   "cell_type": "markdown",
   "id": "16a71093",
   "metadata": {},
   "source": [
    "## Solution"
   ]
  },
  {
   "cell_type": "code",
   "execution_count": 7,
   "id": "aedaa902",
   "metadata": {},
   "outputs": [
    {
     "name": "stdout",
     "output_type": "stream",
     "text": [
      "12\n",
      "insert 0 5\n",
      "insert 1 10\n",
      "insert 0 6\n",
      "print\n",
      "[6, 5, 10]\n",
      "remove 6\n",
      "append 9\n",
      "append 1\n",
      "sort\n",
      "print\n",
      "[1, 5, 9, 10]\n",
      "pop\n",
      "reverse\n",
      "print\n",
      "[9, 5, 1]\n"
     ]
    }
   ],
   "source": [
    "if __name__ == '__main__':\n",
    "\n",
    "    N = int(input())\n",
    "\n",
    "    List=[];\n",
    "\n",
    "    for i in range(N):\n",
    "\n",
    "        command=input().split();\n",
    "\n",
    "        if command[0] == \"insert\":\n",
    "\n",
    "            List.insert(int(command[1]),int(command[2]))\n",
    "\n",
    "        elif command[0] == \"append\":\n",
    "\n",
    "            List.append(int(command[1]))\n",
    "\n",
    "        elif command[0] == \"pop\":\n",
    "\n",
    "            List.pop();\n",
    "\n",
    "        elif command[0] == \"print\":\n",
    "\n",
    "            print(List)\n",
    "\n",
    "        elif command[0] == \"remove\":\n",
    "\n",
    "            List.remove(int(command[1]))\n",
    "\n",
    "        elif command[0] == \"sort\":\n",
    "\n",
    "            List.sort();\n",
    "\n",
    "        else:\n",
    "\n",
    "            List.reverse();"
   ]
  },
  {
   "cell_type": "code",
   "execution_count": null,
   "id": "66522155",
   "metadata": {},
   "outputs": [],
   "source": []
  }
 ],
 "metadata": {
  "kernelspec": {
   "display_name": "Python 3 (ipykernel)",
   "language": "python",
   "name": "python3"
  },
  "language_info": {
   "codemirror_mode": {
    "name": "ipython",
    "version": 3
   },
   "file_extension": ".py",
   "mimetype": "text/x-python",
   "name": "python",
   "nbconvert_exporter": "python",
   "pygments_lexer": "ipython3",
   "version": "3.9.13"
  }
 },
 "nbformat": 4,
 "nbformat_minor": 5
}
