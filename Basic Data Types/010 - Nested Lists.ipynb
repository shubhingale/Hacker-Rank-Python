{
 "cells": [
  {
   "cell_type": "markdown",
   "id": "842d10d5",
   "metadata": {},
   "source": [
    "# 010 - Nested Lists\n",
    "## Problem\n",
    "Given the names and grades for each student in a Physics class of $N$ students, store them in a nested list and print the name(s) of any student(s) having the second lowest grade.\n",
    "\n",
    "Note: If there are multiple students with the same grade, order their names alphabetically and print each name on a new line.\n",
    "\n",
    "Input Format\n",
    "The first line contains an integer, $N$, the number of students.\n",
    "\n",
    "The $2N$ subsequent lines describe each student over $N$ lines; the first line contains a student's name, and the second line contains their grade.\n",
    "\n",
    "Constraints\n",
    "$2 <= N <= 5$\n",
    "\n",
    "There will always be one or more students having the second lowest grade.\n",
    "\n",
    "Output Format\n",
    "Print the name(s) of any student(s) having the second lowest grade in Physics; if there are multiple students, order their names alphabetically and print each one on a new line."
   ]
  },
  {
   "cell_type": "markdown",
   "id": "e75bb576",
   "metadata": {},
   "source": [
    "Sample Input :\n",
    "5\n",
    "Harry\n",
    "37.21\n",
    "Berry\n",
    "37.21\n",
    "Tina\n",
    "37.2\n",
    "Akriti\n",
    "41\n",
    "Harsh\n",
    "39"
   ]
  },
  {
   "cell_type": "markdown",
   "id": "f8b46049",
   "metadata": {},
   "source": [
    "Sample Output :\n",
    "Berry\n",
    "Harry"
   ]
  },
  {
   "cell_type": "markdown",
   "id": "acec082a",
   "metadata": {},
   "source": [
    "#### Explanation\n",
    "There are 5 students in this class whose names and grades are assembled to build the following list:"
   ]
  },
  {
   "cell_type": "markdown",
   "id": "616a19e0",
   "metadata": {},
   "source": [
    "python students = [['Harry', 37.21], ['Berry', 37.21], ['Tina', 37.2], ['Akriti', 41], ['Harsh', 39]]"
   ]
  },
  {
   "cell_type": "markdown",
   "id": "be0dcb08",
   "metadata": {},
   "source": [
    "The lowest grade of 37.2 belongs to Tina. The second lowest grade of 37.21 belongs to both Harry and Berry, so we order their names alphabetically and print each name on a new line.\n",
    "\n",
    "#### Given Code"
   ]
  },
  {
   "cell_type": "markdown",
   "id": "9b3db4d8",
   "metadata": {},
   "source": [
    "if __name__ == '__main__':\n",
    "    for _ in range(int(input())):\n",
    "        name = input()\n",
    "        score = float(input())"
   ]
  },
  {
   "cell_type": "markdown",
   "id": "f225b375",
   "metadata": {},
   "source": [
    "## Solution"
   ]
  },
  {
   "cell_type": "code",
   "execution_count": 1,
   "id": "248b3e59",
   "metadata": {},
   "outputs": [
    {
     "name": "stdout",
     "output_type": "stream",
     "text": [
      "5\n",
      "Harry\n",
      "37.21\n",
      "Berry\n",
      "37.21\n",
      "Tina\n",
      "37.2\n",
      "Akriti\n",
      "41\n",
      "Harsh\n",
      "39\n",
      "Berry\n",
      "Harry\n"
     ]
    }
   ],
   "source": [
    "if __name__ == '__main__':\n",
    "    students = []\n",
    "    for _ in range(int(input())):\n",
    "        name = input()\n",
    "        score = float(input())\n",
    "        stud_record = [name, score]\n",
    "        students.append(stud_record)\n",
    "    marks = [rec[1] for rec in students]\n",
    "    second_lowest_marks = sorted(set(marks), reverse=False)[1]\n",
    "    second_lowest_students = sorted([student[0] for student in students if student[1] == second_lowest_marks])\n",
    "    for name in second_lowest_students:\n",
    "        print(name)"
   ]
  }
 ],
 "metadata": {
  "kernelspec": {
   "display_name": "Python 3 (ipykernel)",
   "language": "python",
   "name": "python3"
  },
  "language_info": {
   "codemirror_mode": {
    "name": "ipython",
    "version": 3
   },
   "file_extension": ".py",
   "mimetype": "text/x-python",
   "name": "python",
   "nbconvert_exporter": "python",
   "pygments_lexer": "ipython3",
   "version": "3.10.9"
  }
 },
 "nbformat": 4,
 "nbformat_minor": 5
}
